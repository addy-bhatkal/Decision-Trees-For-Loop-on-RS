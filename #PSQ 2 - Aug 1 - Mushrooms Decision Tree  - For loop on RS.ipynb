{
 "cells": [
  {
   "cell_type": "code",
   "execution_count": 6,
   "id": "541e2e73",
   "metadata": {},
   "outputs": [],
   "source": [
    "from sklearn.tree import DecisionTreeClassifier\n",
    "from sklearn.model_selection import train_test_split\n",
    "import os\n",
    "import pandas as pd, numpy as np\n",
    "np.set_printoptions(suppress=True, precision=8)\n",
    "import seaborn as sns\n",
    "from sklearn.metrics import confusion_matrix, accuracy_score\n",
    "import matplotlib.pyplot as plt\n",
    "from sklearn.preprocessing import MinMaxScaler"
   ]
  },
  {
   "cell_type": "code",
   "execution_count": 7,
   "id": "b6a06656",
   "metadata": {},
   "outputs": [],
   "source": [
    "os.chdir('C:\\\\Users\\\\ABC\\\\6. Datasets')"
   ]
  },
  {
   "cell_type": "code",
   "execution_count": 8,
   "id": "67e46614",
   "metadata": {},
   "outputs": [],
   "source": [
    "df = pd.read_csv('mushroom_cleaned.csv')"
   ]
  },
  {
   "cell_type": "code",
   "execution_count": 9,
   "id": "1a46faa8",
   "metadata": {},
   "outputs": [],
   "source": [
    "x = df.iloc[:, :-1]\n",
    "y = df.iloc[:, -1]"
   ]
  },
  {
   "cell_type": "code",
   "execution_count": 25,
   "id": "1f6c63b4",
   "metadata": {},
   "outputs": [],
   "source": [
    "import datetime\n",
    "import time"
   ]
  },
  {
   "cell_type": "code",
   "execution_count": 28,
   "id": "c1400245",
   "metadata": {},
   "outputs": [
    {
     "data": {
      "text/plain": [
       "'09:14:03'"
      ]
     },
     "execution_count": 28,
     "metadata": {},
     "output_type": "execute_result"
    }
   ],
   "source": []
  },
  {
   "cell_type": "code",
   "execution_count": 40,
   "id": "e16a4c46",
   "metadata": {},
   "outputs": [
    {
     "name": "stdout",
     "output_type": "stream",
     "text": [
      "Start Time 09:23:28\n",
      "0.9812158785972055 462\n",
      "End Time 09:25:17\n"
     ]
    }
   ],
   "source": [
    "#Running a for loop to check the best random_state pick for accuracy score. \n",
    "listy = []\n",
    "st = time.strftime(\"%H:%M:%S\")\n",
    "print('Start Time', st)\n",
    "for i in range(500):\n",
    "    x_train, x_test, y_train, y_test = train_test_split(x,y,test_size=0.2, random_state=i)\n",
    "    dt = DecisionTreeClassifier()\n",
    "    model = dt.fit(x_train, y_train)\n",
    "    y_pred = model.predict(x_test)\n",
    "    acc = accuracy_score(y_test,y_pred)\n",
    "    cc = confusion_matrix(y_test,y_pred)\n",
    "    listy.append(acc)\n",
    "et = time.strftime(\"%H:%M:%S\")\n",
    "a = max(listy)\n",
    "print(a, listy.index(a))\n",
    "print('End Time', et)"
   ]
  },
  {
   "cell_type": "code",
   "execution_count": null,
   "id": "1468f4ca",
   "metadata": {},
   "outputs": [],
   "source": []
  },
  {
   "cell_type": "code",
   "execution_count": null,
   "id": "217469c4",
   "metadata": {},
   "outputs": [],
   "source": []
  }
 ],
 "metadata": {
  "kernelspec": {
   "display_name": "Python 3 (ipykernel)",
   "language": "python",
   "name": "python3"
  },
  "language_info": {
   "codemirror_mode": {
    "name": "ipython",
    "version": 3
   },
   "file_extension": ".py",
   "mimetype": "text/x-python",
   "name": "python",
   "nbconvert_exporter": "python",
   "pygments_lexer": "ipython3",
   "version": "3.9.13"
  }
 },
 "nbformat": 4,
 "nbformat_minor": 5
}
